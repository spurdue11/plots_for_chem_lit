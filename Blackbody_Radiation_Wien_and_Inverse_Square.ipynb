{
  "nbformat": 4,
  "nbformat_minor": 0,
  "metadata": {
    "colab": {
      "name": "Blackbody Radiation - Wien and Inverse Square.ipynb",
      "provenance": [],
      "collapsed_sections": [],
      "include_colab_link": true
    },
    "kernelspec": {
      "name": "python3",
      "display_name": "Python 3"
    },
    "language_info": {
      "name": "python"
    }
  },
  "cells": [
    {
      "cell_type": "markdown",
      "metadata": {
        "id": "view-in-github",
        "colab_type": "text"
      },
      "source": [
        "<a href=\"https://colab.research.google.com/github/spurdue11/plots_for_chem_lit/blob/main/Blackbody_Radiation_Wien_and_Inverse_Square.ipynb\" target=\"_parent\"><img src=\"https://colab.research.google.com/assets/colab-badge.svg\" alt=\"Open In Colab\"/></a>"
      ]
    },
    {
      "cell_type": "markdown",
      "metadata": {
        "id": "mGNefC1DKqRH"
      },
      "source": [
        "# Install and import libraries"
      ]
    },
    {
      "cell_type": "code",
      "metadata": {
        "id": "puuMDrO3vSQq",
        "colab": {
          "base_uri": "https://localhost:8080/"
        },
        "outputId": "f829bd03-03e5-4e5e-bba6-4ef571e365f8"
      },
      "source": [
        "!pip install whit-phys-util"
      ],
      "execution_count": 1,
      "outputs": [
        {
          "output_type": "stream",
          "text": [
            "Requirement already satisfied: whit-phys-util in /usr/local/lib/python3.7/dist-packages (0.2.4)\n",
            "Requirement already satisfied: python-dotenv>=0.10.4 in /usr/local/lib/python3.7/dist-packages (from whit-phys-util) (0.17.1)\n",
            "Requirement already satisfied: pydantic>=1.7.3 in /usr/local/lib/python3.7/dist-packages (from whit-phys-util) (1.8.1)\n",
            "Requirement already satisfied: typing-extensions>=3.7.4.3 in /usr/local/lib/python3.7/dist-packages (from pydantic>=1.7.3->whit-phys-util) (3.7.4.3)\n"
          ],
          "name": "stdout"
        }
      ]
    },
    {
      "cell_type": "code",
      "metadata": {
        "id": "UIJYsJTQKu5G"
      },
      "source": [
        "import numpy as np\n",
        "import pandas as pd\n",
        "import matplotlib.pyplot as plt\n",
        "import whit_phys_util as buc\n",
        "from scipy.interpolate import interp1d"
      ],
      "execution_count": 2,
      "outputs": []
    },
    {
      "cell_type": "markdown",
      "metadata": {
        "id": "0bez3gbw_r_j"
      },
      "source": [
        "# Connect to GitHub"
      ]
    },
    {
      "cell_type": "code",
      "metadata": {
        "id": "LYXU9VHR_lrL",
        "colab": {
          "base_uri": "https://localhost:8080/"
        },
        "outputId": "576eab2b-a0e1-4e3b-db38-fc6377bdbfb4"
      },
      "source": [
        "repo = buc.local_repository(\"https://github.com/WhitworthPhysics/blackbody-radiation-wiens-law-and-inverse-square-law-spurdue11\")"
      ],
      "execution_count": 3,
      "outputs": [
        {
          "output_type": "stream",
          "text": [
            "Repository exists at this location. Pulling changes from GitHub.\n"
          ],
          "name": "stdout"
        }
      ]
    },
    {
      "cell_type": "markdown",
      "metadata": {
        "id": "OAVc07gP_3BX"
      },
      "source": [
        "# Introduction"
      ]
    },
    {
      "cell_type": "markdown",
      "metadata": {
        "id": "m30mbbLT_5sW"
      },
      "source": [
        "## Objective"
      ]
    },
    {
      "cell_type": "markdown",
      "metadata": {
        "id": "LUCqkzRAa99G"
      },
      "source": [
        "To varify peak blackbody spectrum wavelength dependence on temperature and the inverse square law for light intensity."
      ]
    },
    {
      "cell_type": "markdown",
      "metadata": {
        "id": "5r84DS2F_8Ov"
      },
      "source": [
        "## Equipment and materials\n",
        "| Description | Manufacturer | Model | ID or SN |\n",
        "| ----------- | ------------ | ----- | -------- |\n",
        "| Photodiode detector | Thor Labs | PDA36A | N/A |\n",
        "| Stefan-Boltzmann lamp | PASCO | TD-8555 | N/A |\n",
        "| Digital multimeters | Fluke | 117 True RMS | 49640101SV |\n",
        "| Digital multimeters | Fluke | 117 True RMS | 49640102SV |\n",
        "| Power supply (max. 13 V DC, min. 2 A) | CENCO | 79550 | P-176 |\n",
        "| Spectrometer with optical fiber cable | Ocean optics | USB4000 | 211-00000-chm |\n",
        "| Optic fiber cable | Ocean Optics | P4000-2-UV-VIS | 00S-000925-37 |\n",
        "| Aluminum meter stick | Starrett | N/A | N/A |"
      ]
    },
    {
      "cell_type": "markdown",
      "metadata": {
        "id": "X5jn10iMAB3c"
      },
      "source": [
        "## Equations"
      ]
    },
    {
      "cell_type": "markdown",
      "metadata": {
        "id": "3iUgTGZAAcVf"
      },
      "source": [
        "$\\lambda_{peak} = \\frac{b}{T}$\n",
        "\n",
        "$I = \\frac{a}{(x - x_0)^n}$"
      ]
    },
    {
      "cell_type": "markdown",
      "metadata": {
        "id": "WhG5ebboCLn1"
      },
      "source": [
        "# Temperature-dependence of the blackbody spectrum"
      ]
    },
    {
      "cell_type": "markdown",
      "metadata": {
        "id": "8k49Xt83i5a6"
      },
      "source": [
        "## Data"
      ]
    },
    {
      "cell_type": "code",
      "metadata": {
        "id": "A2y-bHuaCTRe"
      },
      "source": [
        "b = 2.898*10**(-3)   # m.K\n",
        "T_room = 20.6 + 273.15   # K\n",
        "R_room = 0.3   # ohms\n",
        "a = 4.5*10**(-3)   # 1/K\n",
        "R_ref = R_room + a*R_room*(300-T_room)   # ohms"
      ],
      "execution_count": 4,
      "outputs": []
    },
    {
      "cell_type": "code",
      "metadata": {
        "id": "Sc4t7T2gIbV_",
        "colab": {
          "base_uri": "https://localhost:8080/",
          "height": 191
        },
        "outputId": "0821b795-07ff-4c07-fbd2-437c6b446f98"
      },
      "source": [
        "df_lamp_calib = pd.read_csv('lamp_calibration.csv')\n",
        "df_temp = pd.read_table('Data_temp_dep.tsv')\n",
        "df_temp['R (ohms)'] = df_temp['Voltage (V)']/df_temp['Current (A)']\n",
        "df_temp['R ratio'] = df_temp['R (ohms)']/R_ref\n",
        "convert_Rratio_to_T = interp1d(df_lamp_calib['R Ratio'], df_lamp_calib['Temperature (K)'], kind='cubic')\n",
        "df_temp['Temperature (K)'] = convert_Rratio_to_T(df_temp['R ratio'])\n",
        "df_temp['Inverse temperature (1/K)'] = 1/df_temp['Temperature (K)']\n",
        "df_temp['Wavelength_peak (m)'] = df_temp['Wavelength_peak (nm)']/10**9\n",
        "df_temp.head()"
      ],
      "execution_count": 5,
      "outputs": [
        {
          "output_type": "execute_result",
          "data": {
            "text/html": [
              "<div>\n",
              "<style scoped>\n",
              "    .dataframe tbody tr th:only-of-type {\n",
              "        vertical-align: middle;\n",
              "    }\n",
              "\n",
              "    .dataframe tbody tr th {\n",
              "        vertical-align: top;\n",
              "    }\n",
              "\n",
              "    .dataframe thead th {\n",
              "        text-align: right;\n",
              "    }\n",
              "</style>\n",
              "<table border=\"1\" class=\"dataframe\">\n",
              "  <thead>\n",
              "    <tr style=\"text-align: right;\">\n",
              "      <th></th>\n",
              "      <th>Voltage (V)</th>\n",
              "      <th>Current (A)</th>\n",
              "      <th>Wavelength_peak (nm)</th>\n",
              "      <th>R (ohms)</th>\n",
              "      <th>R ratio</th>\n",
              "      <th>Temperature (K)</th>\n",
              "      <th>Inverse temperature (1/K)</th>\n",
              "      <th>Wavelength_peak (m)</th>\n",
              "    </tr>\n",
              "  </thead>\n",
              "  <tbody>\n",
              "    <tr>\n",
              "      <th>0</th>\n",
              "      <td>6.02</td>\n",
              "      <td>2.173</td>\n",
              "      <td>656.72</td>\n",
              "      <td>2.770364</td>\n",
              "      <td>8.981928</td>\n",
              "      <td>1821.036336</td>\n",
              "      <td>0.000549</td>\n",
              "      <td>6.567200e-07</td>\n",
              "    </tr>\n",
              "    <tr>\n",
              "      <th>1</th>\n",
              "      <td>8.12</td>\n",
              "      <td>2.532</td>\n",
              "      <td>631.85</td>\n",
              "      <td>3.206951</td>\n",
              "      <td>10.397410</td>\n",
              "      <td>2061.509734</td>\n",
              "      <td>0.000485</td>\n",
              "      <td>6.318500e-07</td>\n",
              "    </tr>\n",
              "    <tr>\n",
              "      <th>2</th>\n",
              "      <td>10.02</td>\n",
              "      <td>2.837</td>\n",
              "      <td>615.41</td>\n",
              "      <td>3.531900</td>\n",
              "      <td>11.450942</td>\n",
              "      <td>2235.196901</td>\n",
              "      <td>0.000447</td>\n",
              "      <td>6.154100e-07</td>\n",
              "    </tr>\n",
              "    <tr>\n",
              "      <th>3</th>\n",
              "      <td>12.06</td>\n",
              "      <td>3.139</td>\n",
              "      <td>610.78</td>\n",
              "      <td>3.841988</td>\n",
              "      <td>12.456293</td>\n",
              "      <td>2399.401913</td>\n",
              "      <td>0.000417</td>\n",
              "      <td>6.107800e-07</td>\n",
              "    </tr>\n",
              "  </tbody>\n",
              "</table>\n",
              "</div>"
            ],
            "text/plain": [
              "   Voltage (V)  Current (A)  ...  Inverse temperature (1/K)  Wavelength_peak (m)\n",
              "0         6.02        2.173  ...                   0.000549         6.567200e-07\n",
              "1         8.12        2.532  ...                   0.000485         6.318500e-07\n",
              "2        10.02        2.837  ...                   0.000447         6.154100e-07\n",
              "3        12.06        3.139  ...                   0.000417         6.107800e-07\n",
              "\n",
              "[4 rows x 8 columns]"
            ]
          },
          "metadata": {
            "tags": []
          },
          "execution_count": 5
        }
      ]
    },
    {
      "cell_type": "markdown",
      "metadata": {
        "id": "OefU6tHCi9Yt"
      },
      "source": [
        "## Analysis"
      ]
    },
    {
      "cell_type": "code",
      "metadata": {
        "id": "zW3AOEEgJprh",
        "colab": {
          "base_uri": "https://localhost:8080/",
          "height": 130
        },
        "outputId": "3ee88b49-2655-4217-9a9d-17c137c9e335"
      },
      "source": [
        "fitTable, fitFunc = buc.prettyPolyFit(df_temp['Inverse temperature (1/K)'], df_temp['Wavelength_peak (m)'])\n",
        "fitTable"
      ],
      "execution_count": 6,
      "outputs": [
        {
          "output_type": "execute_result",
          "data": {
            "text/html": [
              "<div>\n",
              "<style scoped>\n",
              "    .dataframe tbody tr th:only-of-type {\n",
              "        vertical-align: middle;\n",
              "    }\n",
              "\n",
              "    .dataframe tbody tr th {\n",
              "        vertical-align: top;\n",
              "    }\n",
              "\n",
              "    .dataframe thead th {\n",
              "        text-align: right;\n",
              "    }\n",
              "</style>\n",
              "<table border=\"1\" class=\"dataframe\">\n",
              "  <thead>\n",
              "    <tr style=\"text-align: right;\">\n",
              "      <th></th>\n",
              "      <th>slope</th>\n",
              "      <th>intercept</th>\n",
              "    </tr>\n",
              "  </thead>\n",
              "  <tbody>\n",
              "    <tr>\n",
              "      <th>value</th>\n",
              "      <td>0.000361</td>\n",
              "      <td>4.573814e-07</td>\n",
              "    </tr>\n",
              "    <tr>\n",
              "      <th>uncertainty</th>\n",
              "      <td>0.000068</td>\n",
              "      <td>3.233921e-08</td>\n",
              "    </tr>\n",
              "  </tbody>\n",
              "</table>\n",
              "</div>"
            ],
            "text/plain": [
              "                slope     intercept\n",
              "value        0.000361  4.573814e-07\n",
              "uncertainty  0.000068  3.233921e-08"
            ]
          },
          "metadata": {
            "tags": []
          },
          "execution_count": 6
        }
      ]
    },
    {
      "cell_type": "code",
      "metadata": {
        "id": "O5clYBvXlmkE",
        "outputId": "056ae671-f704-48fa-9390-e551cff822af",
        "colab": {
          "base_uri": "https://localhost:8080/"
        }
      },
      "source": [
        "print(\"The slope of peak wavelength versus 1/T is (%.5f ± %.5f)\" % tuple(fitTable['slope']))\n",
        "print(\"The intercept of peak wavelength versus 1/T is (%.0E ± %.1E)\" % tuple(fitTable['intercept']))"
      ],
      "execution_count": 12,
      "outputs": [
        {
          "output_type": "stream",
          "text": [
            "The slope of peak wavelength versus 1/T is (0.00036 ± 0.00007)\n",
            "The intercept of peak wavelength versus 1/T is (5E-07 ± 3.2E-08)\n"
          ],
          "name": "stdout"
        }
      ]
    },
    {
      "cell_type": "code",
      "metadata": {
        "id": "8Zkv4erulxlt",
        "outputId": "83bc5711-f34f-42bc-bd0f-82f001a49b46",
        "colab": {
          "base_uri": "https://localhost:8080/",
          "height": 310
        }
      },
      "source": [
        "fig, ax = plt.subplots()\n",
        "ax.plot(df_temp['Inverse temperature (1/K)'], df_temp['Wavelength_peak (m)'], \"o\");\n",
        "ax.set_xlabel(\"Inverse temperature (1/K)\");\n",
        "ax.set_ylabel(\"Wavelength_peak (m)\");\n",
        "t_fit = np.linspace(0.0004,0.00056,2);\n",
        "ax.plot(t_fit, fitFunc(t_fit));\n",
        "ax.set_xlim(0.0004,0.00056);"
      ],
      "execution_count": 18,
      "outputs": [
        {
          "output_type": "display_data",
          "data": {
            "image/png": "[encoded data removed]",
            "text/plain": [
              "<Figure size 432x288 with 1 Axes>"
            ]
          },
          "metadata": {
            "tags": [],
            "needs_background": "light"
          }
        }
      ]
    },
    {
      "cell_type": "markdown",
      "metadata": {
        "id": "QMvN3tSaCT6r"
      },
      "source": [
        "# Distance-dependence of intensity"
      ]
    },
    {
      "cell_type": "markdown",
      "metadata": {
        "id": "6gI1NUyfkhBU"
      },
      "source": [
        "## Data"
      ]
    },
    {
      "cell_type": "markdown",
      "metadata": {
        "id": "fWxbleTLk96e"
      },
      "source": [
        "Constant current throughout this experiment $\\approx$ 2.929 A"
      ]
    },
    {
      "cell_type": "code",
      "metadata": {
        "id": "i6p1agWOCYWK",
        "colab": {
          "base_uri": "https://localhost:8080/",
          "height": 221
        },
        "outputId": "9ffe059c-52cc-4cbe-bd41-08eff7e04dcc"
      },
      "source": [
        "df_int = pd.read_table('Data_intensity_dep.tsv')\n",
        "df_int['Distance (inch)'] = 33 - df_int['Position (inch)']\n",
        "df_int['Distance (m)'] = df_int['Distance (inch)']*2.54/100\n",
        "df_int.head()"
      ],
      "execution_count": 9,
      "outputs": [
        {
          "output_type": "execute_result",
          "data": {
            "text/html": [
              "<div>\n",
              "<style scoped>\n",
              "    .dataframe tbody tr th:only-of-type {\n",
              "        vertical-align: middle;\n",
              "    }\n",
              "\n",
              "    .dataframe tbody tr th {\n",
              "        vertical-align: top;\n",
              "    }\n",
              "\n",
              "    .dataframe thead th {\n",
              "        text-align: right;\n",
              "    }\n",
              "</style>\n",
              "<table border=\"1\" class=\"dataframe\">\n",
              "  <thead>\n",
              "    <tr style=\"text-align: right;\">\n",
              "      <th></th>\n",
              "      <th>Position (inch)</th>\n",
              "      <th>Intensity (au)</th>\n",
              "      <th>Distance (inch)</th>\n",
              "      <th>Distance (m)</th>\n",
              "    </tr>\n",
              "  </thead>\n",
              "  <tbody>\n",
              "    <tr>\n",
              "      <th>0</th>\n",
              "      <td>33</td>\n",
              "      <td>0.206</td>\n",
              "      <td>0</td>\n",
              "      <td>0.0000</td>\n",
              "    </tr>\n",
              "    <tr>\n",
              "      <th>1</th>\n",
              "      <td>32</td>\n",
              "      <td>0.172</td>\n",
              "      <td>1</td>\n",
              "      <td>0.0254</td>\n",
              "    </tr>\n",
              "    <tr>\n",
              "      <th>2</th>\n",
              "      <td>31</td>\n",
              "      <td>0.134</td>\n",
              "      <td>2</td>\n",
              "      <td>0.0508</td>\n",
              "    </tr>\n",
              "    <tr>\n",
              "      <th>3</th>\n",
              "      <td>30</td>\n",
              "      <td>0.104</td>\n",
              "      <td>3</td>\n",
              "      <td>0.0762</td>\n",
              "    </tr>\n",
              "    <tr>\n",
              "      <th>4</th>\n",
              "      <td>29</td>\n",
              "      <td>0.081</td>\n",
              "      <td>4</td>\n",
              "      <td>0.1016</td>\n",
              "    </tr>\n",
              "  </tbody>\n",
              "</table>\n",
              "</div>"
            ],
            "text/plain": [
              "   Position (inch)  Intensity (au)  Distance (inch)  Distance (m)\n",
              "0               33           0.206                0        0.0000\n",
              "1               32           0.172                1        0.0254\n",
              "2               31           0.134                2        0.0508\n",
              "3               30           0.104                3        0.0762\n",
              "4               29           0.081                4        0.1016"
            ]
          },
          "metadata": {
            "tags": []
          },
          "execution_count": 9
        }
      ]
    },
    {
      "cell_type": "markdown",
      "metadata": {
        "id": "urK_sTlwkklF"
      },
      "source": [
        "## Analysis"
      ]
    },
    {
      "cell_type": "code",
      "metadata": {
        "id": "XF186BhmllOi"
      },
      "source": [
        "\n"
      ],
      "execution_count": 9,
      "outputs": []
    }
  ]
}