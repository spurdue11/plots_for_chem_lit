{
  "nbformat": 4,
  "nbformat_minor": 0,
  "metadata": {
    "colab": {
      "name": "Blackbody Radiation - Wien and Inverse Square.ipynb",
      "provenance": [],
      "collapsed_sections": []
    },
    "kernelspec": {
      "name": "python3",
      "display_name": "Python 3"
    },
    "language_info": {
      "name": "python"
    }
  },
  "cells": [
    {
      "cell_type": "markdown",
      "metadata": {
        "id": "mGNefC1DKqRH"
      },
      "source": [
        "# Install and import libraries"
      ]
    },
    {
      "cell_type": "code",
      "metadata": {
        "id": "puuMDrO3vSQq"
      },
      "source": [
        "!pip install whit-phys-util"
      ],
      "execution_count": null,
      "outputs": []
    },
    {
      "cell_type": "code",
      "metadata": {
        "id": "UIJYsJTQKu5G"
      },
      "source": [
        "import numpy as np\n",
        "import pandas as pd\n",
        "import matplotlib.pyplot as plt\n",
        "import whit_phys_util as buc\n",
        "from scipy.interpolate import interp1d"
      ],
      "execution_count": null,
      "outputs": []
    },
    {
      "cell_type": "markdown",
      "metadata": {
        "id": "0bez3gbw_r_j"
      },
      "source": [
        "# Connect to GitHub"
      ]
    },
    {
      "cell_type": "code",
      "metadata": {
        "id": "LYXU9VHR_lrL"
      },
      "source": [
        "repo = buc.local_repository(\"https://github.com/WhitworthPhysics/blackbody-radiation-wiens-law-and-inverse-square-law-spurdue11\")"
      ],
      "execution_count": null,
      "outputs": []
    },
    {
      "cell_type": "markdown",
      "metadata": {
        "id": "OAVc07gP_3BX"
      },
      "source": [
        "# Introduction"
      ]
    },
    {
      "cell_type": "markdown",
      "metadata": {
        "id": "m30mbbLT_5sW"
      },
      "source": [
        "## Objective"
      ]
    },
    {
      "cell_type": "markdown",
      "metadata": {
        "id": "LUCqkzRAa99G"
      },
      "source": [
        "To varify peak blackbody spectrum wavelength dependence on temperature and the inverse square law for light intensity."
      ]
    },
    {
      "cell_type": "markdown",
      "metadata": {
        "id": "5r84DS2F_8Ov"
      },
      "source": [
        "## Equipment and materials\n",
        "| Description | Manufacturer | Model | ID or SN |\n",
        "| ----------- | ------------ | ----- | -------- |\n",
        "| Photodiode detector | Thor Labs | PDA36A | N/A |\n",
        "| Stefan-Boltzmann lamp | PASCO | TD-8555 | N/A |\n",
        "| Digital multimeters | Fluke | 117 True RMS | 49640101SV |\n",
        "| Digital multimeters | Fluke | 117 True RMS | 49640102SV |\n",
        "| Power supply (max. 13 V DC, min. 2 A) | CENCO | 79550 | P-176 |\n",
        "| Spectrometer with optical fiber cable | Ocean optics | USB4000 | 211-00000-chm |\n",
        "| Optic fiber cable | Ocean Optics | P4000-2-UV-VIS | 00S-000925-37 |\n",
        "| Aluminum meter stick | Starrett | N/A | N/A |"
      ]
    },
    {
      "cell_type": "markdown",
      "metadata": {
        "id": "X5jn10iMAB3c"
      },
      "source": [
        "## Equations"
      ]
    },
    {
      "cell_type": "markdown",
      "metadata": {
        "id": "3iUgTGZAAcVf"
      },
      "source": [
        "$\\lambda_{peak} = \\frac{b}{T}$\n",
        "\n",
        "$I = \\frac{a}{(x - x_0)^n}$"
      ]
    },
    {
      "cell_type": "markdown",
      "metadata": {
        "id": "WhG5ebboCLn1"
      },
      "source": [
        "# Temperature-dependence of the blackbody spectrum"
      ]
    },
    {
      "cell_type": "code",
      "metadata": {
        "id": "A2y-bHuaCTRe"
      },
      "source": [
        "b = 2.898*10**(-3)   # m.K\n",
        "T_room = 20.6 + 273.15   # K\n",
        "R_room = 0.3   # ohms\n",
        "a = 4.5*10**(-3)   # 1/K\n",
        "R_ref = R_room + a*R_room*(300-T_room)   # ohms"
      ],
      "execution_count": null,
      "outputs": []
    },
    {
      "cell_type": "code",
      "metadata": {
        "id": "Sc4t7T2gIbV_"
      },
      "source": [
        "df_lamp_calib = pd.read_csv('lamp_calibration.csv')\n",
        "df_temp = pd.read_table('Data_temp_dep.tsv')\n",
        "df_temp['R (ohms)'] = df_temp['Voltage (V)']/df_temp['Current (A)']\n",
        "df_temp['R ratio'] = df_temp['R (ohms)']/R_ref\n",
        "convert_Rratio_to_T = interp1d(df_lamp_calib['R Ratio'], df_lamp_calib['Temperature (K)'], kind='cubic')\n",
        "df_temp['Temperature (K)'] = convert_Rratio_to_T(df_stefan['R ratio'])\n",
        "\n",
        "df_stefan.head()"
      ],
      "execution_count": null,
      "outputs": []
    },
    {
      "cell_type": "code",
      "metadata": {
        "id": "zW3AOEEgJprh"
      },
      "source": [
        ""
      ],
      "execution_count": null,
      "outputs": []
    },
    {
      "cell_type": "markdown",
      "metadata": {
        "id": "QMvN3tSaCT6r"
      },
      "source": [
        "# Distance-dependence of intensity"
      ]
    },
    {
      "cell_type": "code",
      "metadata": {
        "id": "i6p1agWOCYWK"
      },
      "source": [
        "I_int = 2.929"
      ],
      "execution_count": null,
      "outputs": []
    }
  ]
}