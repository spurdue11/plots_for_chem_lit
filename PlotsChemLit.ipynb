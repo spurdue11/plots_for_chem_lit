{
  "nbformat": 4,
  "nbformat_minor": 0,
  "metadata": {
    "colab": {
      "name": "PlotsChemLit.ipynb",
      "provenance": [],
      "collapsed_sections": [],
      "authorship_tag": "ABX9TyMzSbOuNeQwX8dVCMJv6wmr",
      "include_colab_link": true
    },
    "kernelspec": {
      "name": "python3",
      "display_name": "Python 3"
    }
  },
  "cells": [
    {
      "cell_type": "markdown",
      "metadata": {
        "id": "view-in-github",
        "colab_type": "text"
      },
      "source": [
        "<a href=\"https://colab.research.google.com/github/spurdue11/plots_for_chem_lit/blob/main/PlotsChemLit.ipynb\" target=\"_parent\"><img src=\"https://colab.research.google.com/assets/colab-badge.svg\" alt=\"Open In Colab\"/></a>"
      ]
    },
    {
      "cell_type": "markdown",
      "metadata": {
        "id": "8RiI7wjGlVt8"
      },
      "source": [
        "# Import"
      ]
    },
    {
      "cell_type": "code",
      "metadata": {
        "id": "ww0KXgWAwUij"
      },
      "source": [
        "import numpy as np\n",
        "import pandas as pd\n",
        "import math as mt\n",
        "import matplotlib.pyplot as plt\n",
        "from scipy.special import comb"
      ],
      "execution_count": 1,
      "outputs": []
    },
    {
      "cell_type": "code",
      "metadata": {
        "colab": {
          "base_uri": "https://localhost:8080/"
        },
        "id": "dy48s_Tmawvh",
        "outputId": "acdcc843-5ab9-4b83-e896-47b5cddb9dd4"
      },
      "source": [
        "!git clone https://github.com/spurdue11/plots_for_chem_lit"
      ],
      "execution_count": 2,
      "outputs": [
        {
          "output_type": "stream",
          "text": [
            "fatal: destination path 'plots_for_chem_lit' already exists and is not an empty directory.\n"
          ],
          "name": "stdout"
        }
      ]
    },
    {
      "cell_type": "markdown",
      "metadata": {
        "id": "iktMENfglO7Q"
      },
      "source": [
        "# Notes on making plots"
      ]
    },
    {
      "cell_type": "markdown",
      "metadata": {
        "id": "y_hFz-hghgFf"
      },
      "source": [
        "\n",
        "* If you want a complete list of possible marker codes, visit https://matplotlib.org/3.3.3/api/markers_api.html."
      ]
    },
    {
      "cell_type": "markdown",
      "metadata": {
        "id": "WYgpe7Drk5ZW"
      },
      "source": [
        "# Customers"
      ]
    },
    {
      "cell_type": "code",
      "metadata": {
        "colab": {
          "base_uri": "https://localhost:8080/",
          "height": 228
        },
        "id": "bu_stw1Fcq0s",
        "outputId": "ae7611ef-df87-4017-da9a-580e2ada1d7d"
      },
      "source": [
        "customers = pd.read_excel(\"plots_for_chem_lit/customers.xlsx\")\n",
        "customers.head()"
      ],
      "execution_count": 3,
      "outputs": [
        {
          "output_type": "execute_result",
          "data": {
            "text/html": [
              "<div>\n",
              "<style scoped>\n",
              "    .dataframe tbody tr th:only-of-type {\n",
              "        vertical-align: middle;\n",
              "    }\n",
              "\n",
              "    .dataframe tbody tr th {\n",
              "        vertical-align: top;\n",
              "    }\n",
              "\n",
              "    .dataframe thead th {\n",
              "        text-align: right;\n",
              "    }\n",
              "</style>\n",
              "<table border=\"1\" class=\"dataframe\">\n",
              "  <thead>\n",
              "    <tr style=\"text-align: right;\">\n",
              "      <th></th>\n",
              "      <th>Month</th>\n",
              "      <th>north branch</th>\n",
              "      <th>downtown location</th>\n",
              "    </tr>\n",
              "  </thead>\n",
              "  <tbody>\n",
              "    <tr>\n",
              "      <th>0</th>\n",
              "      <td>Jan</td>\n",
              "      <td>212</td>\n",
              "      <td>400</td>\n",
              "    </tr>\n",
              "    <tr>\n",
              "      <th>1</th>\n",
              "      <td>Feb</td>\n",
              "      <td>225</td>\n",
              "      <td>450</td>\n",
              "    </tr>\n",
              "    <tr>\n",
              "      <th>2</th>\n",
              "      <td>March</td>\n",
              "      <td>275</td>\n",
              "      <td>500</td>\n",
              "    </tr>\n",
              "    <tr>\n",
              "      <th>3</th>\n",
              "      <td>April</td>\n",
              "      <td>307</td>\n",
              "      <td>525</td>\n",
              "    </tr>\n",
              "    <tr>\n",
              "      <th>4</th>\n",
              "      <td>May</td>\n",
              "      <td>324</td>\n",
              "      <td>555</td>\n",
              "    </tr>\n",
              "  </tbody>\n",
              "</table>\n",
              "</div>"
            ],
            "text/plain": [
              "   Month   north branch  downtown location\n",
              "0    Jan            212                400\n",
              "1    Feb            225                450\n",
              "2  March            275                500\n",
              "3  April            307                525\n",
              "4    May            324                555"
            ]
          },
          "metadata": {
            "tags": []
          },
          "execution_count": 3
        }
      ]
    },
    {
      "cell_type": "code",
      "metadata": {
        "colab": {
          "base_uri": "https://localhost:8080/",
          "height": 318
        },
        "id": "VfHuURs5eIQF",
        "outputId": "2bbac6e6-3a19-4b2a-acae-094f160d11b5"
      },
      "source": [
        "fig, ax = plt.subplots()\n",
        "ax.plot(customers['Month'], customers[' north branch'], label=\"North branch\");\n",
        "ax.plot(customers['Month'], customers['downtown location'], label=\"Downtown location\");\n",
        "ax.set_xlabel(\"Month\");\n",
        "ax.set_ylabel(\"Number of customers\");\n",
        "plt.xticks(rotation = 45);\n",
        "ax.legend();"
      ],
      "execution_count": 4,
      "outputs": [
        {
          "output_type": "display_data",
          "data": {
            "image/png": "[encoded data removed]",
            "text/plain": [
              "<Figure size 432x288 with 1 Axes>"
            ]
          },
          "metadata": {
            "tags": [],
            "needs_background": "light"
          }
        }
      ]
    },
    {
      "cell_type": "code",
      "metadata": {
        "id": "2qcSqVAahnaM"
      },
      "source": [
        "fig.savefig('customers.pdf', dpi=300, bbox_inches='tight')"
      ],
      "execution_count": 12,
      "outputs": []
    },
    {
      "cell_type": "markdown",
      "metadata": {
        "id": "Y43qw0mWk8Tl"
      },
      "source": [
        "# Energy states"
      ]
    },
    {
      "cell_type": "code",
      "metadata": {
        "colab": {
          "base_uri": "https://localhost:8080/",
          "height": 228
        },
        "id": "Nq00Ztt0c36D",
        "outputId": "20fcaeee-f48f-46b8-be37-1d918c1c460d"
      },
      "source": [
        "energy = pd.read_excel(\"plots_for_chem_lit/energy-states.xlsx\")\n",
        "energy.head()"
      ],
      "execution_count": 6,
      "outputs": [
        {
          "output_type": "execute_result",
          "data": {
            "text/html": [
              "<div>\n",
              "<style scoped>\n",
              "    .dataframe tbody tr th:only-of-type {\n",
              "        vertical-align: middle;\n",
              "    }\n",
              "\n",
              "    .dataframe tbody tr th {\n",
              "        vertical-align: top;\n",
              "    }\n",
              "\n",
              "    .dataframe thead th {\n",
              "        text-align: right;\n",
              "    }\n",
              "</style>\n",
              "<table border=\"1\" class=\"dataframe\">\n",
              "  <thead>\n",
              "    <tr style=\"text-align: right;\">\n",
              "      <th></th>\n",
              "      <th>computational method</th>\n",
              "      <th>energy of state 1</th>\n",
              "      <th>energy of state 2</th>\n",
              "      <th>95% CI</th>\n",
              "    </tr>\n",
              "  </thead>\n",
              "  <tbody>\n",
              "    <tr>\n",
              "      <th>0</th>\n",
              "      <td>RRKM</td>\n",
              "      <td>14.65000</td>\n",
              "      <td>17.5500</td>\n",
              "      <td>1.10</td>\n",
              "    </tr>\n",
              "    <tr>\n",
              "      <th>1</th>\n",
              "      <td>abbreviated version 1</td>\n",
              "      <td>13.10000</td>\n",
              "      <td>17.1000</td>\n",
              "      <td>1.15</td>\n",
              "    </tr>\n",
              "    <tr>\n",
              "      <th>2</th>\n",
              "      <td>abbreviated version 2</td>\n",
              "      <td>12.12883</td>\n",
              "      <td>16.9531</td>\n",
              "      <td>1.08</td>\n",
              "    </tr>\n",
              "    <tr>\n",
              "      <th>3</th>\n",
              "      <td>abbreviated version 3</td>\n",
              "      <td>12.95600</td>\n",
              "      <td>18.4560</td>\n",
              "      <td>1.65</td>\n",
              "    </tr>\n",
              "    <tr>\n",
              "      <th>4</th>\n",
              "      <td>ab initio</td>\n",
              "      <td>12.98470</td>\n",
              "      <td>19.4589</td>\n",
              "      <td>0.85</td>\n",
              "    </tr>\n",
              "  </tbody>\n",
              "</table>\n",
              "</div>"
            ],
            "text/plain": [
              "    computational method  energy of state 1  energy of state 2  95% CI\n",
              "0                   RRKM           14.65000            17.5500    1.10\n",
              "1  abbreviated version 1           13.10000            17.1000    1.15\n",
              "2  abbreviated version 2           12.12883            16.9531    1.08\n",
              "3  abbreviated version 3           12.95600            18.4560    1.65\n",
              "4              ab initio           12.98470            19.4589    0.85"
            ]
          },
          "metadata": {
            "tags": []
          },
          "execution_count": 6
        }
      ]
    },
    {
      "cell_type": "markdown",
      "metadata": {
        "id": "aZn44LRLlA0a"
      },
      "source": [
        "# Luciferase"
      ]
    },
    {
      "cell_type": "code",
      "metadata": {
        "colab": {
          "base_uri": "https://localhost:8080/",
          "height": 228
        },
        "id": "1UOGAZIrdcKN",
        "outputId": "46ed8ef5-0dc2-4382-9747-c7bf1b3e7796"
      },
      "source": [
        "luciferase = pd.read_excel(\"plots_for_chem_lit/luciferase.xlsx\")\n",
        "luciferase.head()"
      ],
      "execution_count": 7,
      "outputs": [
        {
          "output_type": "execute_result",
          "data": {
            "text/html": [
              "<div>\n",
              "<style scoped>\n",
              "    .dataframe tbody tr th:only-of-type {\n",
              "        vertical-align: middle;\n",
              "    }\n",
              "\n",
              "    .dataframe tbody tr th {\n",
              "        vertical-align: top;\n",
              "    }\n",
              "\n",
              "    .dataframe thead th {\n",
              "        text-align: right;\n",
              "    }\n",
              "</style>\n",
              "<table border=\"1\" class=\"dataframe\">\n",
              "  <thead>\n",
              "    <tr style=\"text-align: right;\">\n",
              "      <th></th>\n",
              "      <th>experiment type</th>\n",
              "      <th>p53 type</th>\n",
              "      <th>luciferase act 1</th>\n",
              "      <th>luciferase act 2</th>\n",
              "      <th>luciferase act 3</th>\n",
              "    </tr>\n",
              "  </thead>\n",
              "  <tbody>\n",
              "    <tr>\n",
              "      <th>0</th>\n",
              "      <td>untreated</td>\n",
              "      <td>pos</td>\n",
              "      <td>25.0</td>\n",
              "      <td>24.5</td>\n",
              "      <td>25.2</td>\n",
              "    </tr>\n",
              "    <tr>\n",
              "      <th>1</th>\n",
              "      <td>untreated</td>\n",
              "      <td>neg</td>\n",
              "      <td>24.8</td>\n",
              "      <td>24.9</td>\n",
              "      <td>25.1</td>\n",
              "    </tr>\n",
              "    <tr>\n",
              "      <th>2</th>\n",
              "      <td>IFN</td>\n",
              "      <td>pos</td>\n",
              "      <td>65.0</td>\n",
              "      <td>64.0</td>\n",
              "      <td>67.0</td>\n",
              "    </tr>\n",
              "    <tr>\n",
              "      <th>3</th>\n",
              "      <td>IFN</td>\n",
              "      <td>neg</td>\n",
              "      <td>62.0</td>\n",
              "      <td>63.0</td>\n",
              "      <td>59.0</td>\n",
              "    </tr>\n",
              "    <tr>\n",
              "      <th>4</th>\n",
              "      <td>dsRNA</td>\n",
              "      <td>pos</td>\n",
              "      <td>75.0</td>\n",
              "      <td>75.0</td>\n",
              "      <td>76.0</td>\n",
              "    </tr>\n",
              "  </tbody>\n",
              "</table>\n",
              "</div>"
            ],
            "text/plain": [
              "  experiment type p53 type  ...  luciferase act 2  luciferase act 3\n",
              "0       untreated      pos  ...              24.5              25.2\n",
              "1       untreated      neg  ...              24.9              25.1\n",
              "2             IFN      pos  ...              64.0              67.0\n",
              "3             IFN      neg  ...              63.0              59.0\n",
              "4           dsRNA      pos  ...              75.0              76.0\n",
              "\n",
              "[5 rows x 5 columns]"
            ]
          },
          "metadata": {
            "tags": []
          },
          "execution_count": 7
        }
      ]
    },
    {
      "cell_type": "markdown",
      "metadata": {
        "id": "i37_iL6olEwl"
      },
      "source": [
        "# Phenotype data"
      ]
    },
    {
      "cell_type": "code",
      "metadata": {
        "colab": {
          "base_uri": "https://localhost:8080/",
          "height": 228
        },
        "id": "OIsBHT0QdlQR",
        "outputId": "84d25b01-706a-4f94-eb32-c90dbba56496"
      },
      "source": [
        "phenA = pd.read_excel(\"plots_for_chem_lit/phenotypeA.xlsx\")\n",
        "phenA.head()"
      ],
      "execution_count": 8,
      "outputs": [
        {
          "output_type": "execute_result",
          "data": {
            "text/html": [
              "<div>\n",
              "<style scoped>\n",
              "    .dataframe tbody tr th:only-of-type {\n",
              "        vertical-align: middle;\n",
              "    }\n",
              "\n",
              "    .dataframe tbody tr th {\n",
              "        vertical-align: top;\n",
              "    }\n",
              "\n",
              "    .dataframe thead th {\n",
              "        text-align: right;\n",
              "    }\n",
              "</style>\n",
              "<table border=\"1\" class=\"dataframe\">\n",
              "  <thead>\n",
              "    <tr style=\"text-align: right;\">\n",
              "      <th></th>\n",
              "      <th>Subject</th>\n",
              "      <th>phenotype A</th>\n",
              "    </tr>\n",
              "  </thead>\n",
              "  <tbody>\n",
              "    <tr>\n",
              "      <th>0</th>\n",
              "      <td>Subject 1</td>\n",
              "      <td>257</td>\n",
              "    </tr>\n",
              "    <tr>\n",
              "      <th>1</th>\n",
              "      <td>subject 2</td>\n",
              "      <td>258</td>\n",
              "    </tr>\n",
              "    <tr>\n",
              "      <th>2</th>\n",
              "      <td>Subject 3</td>\n",
              "      <td>259</td>\n",
              "    </tr>\n",
              "    <tr>\n",
              "      <th>3</th>\n",
              "      <td>Subject 4</td>\n",
              "      <td>261</td>\n",
              "    </tr>\n",
              "    <tr>\n",
              "      <th>4</th>\n",
              "      <td>Subject 5</td>\n",
              "      <td>261</td>\n",
              "    </tr>\n",
              "  </tbody>\n",
              "</table>\n",
              "</div>"
            ],
            "text/plain": [
              "     Subject  phenotype A\n",
              "0  Subject 1          257\n",
              "1  subject 2          258\n",
              "2  Subject 3          259\n",
              "3  Subject 4          261\n",
              "4  Subject 5          261"
            ]
          },
          "metadata": {
            "tags": []
          },
          "execution_count": 8
        }
      ]
    },
    {
      "cell_type": "code",
      "metadata": {
        "colab": {
          "base_uri": "https://localhost:8080/",
          "height": 228
        },
        "id": "hq2kAqktdz3X",
        "outputId": "2c6b05a9-f0b9-4ae6-9c05-2092005232b4"
      },
      "source": [
        "phenB = pd.read_excel(\"plots_for_chem_lit/phenotypeB.xlsx\")\n",
        "phenB.head()"
      ],
      "execution_count": 9,
      "outputs": [
        {
          "output_type": "execute_result",
          "data": {
            "text/html": [
              "<div>\n",
              "<style scoped>\n",
              "    .dataframe tbody tr th:only-of-type {\n",
              "        vertical-align: middle;\n",
              "    }\n",
              "\n",
              "    .dataframe tbody tr th {\n",
              "        vertical-align: top;\n",
              "    }\n",
              "\n",
              "    .dataframe thead th {\n",
              "        text-align: right;\n",
              "    }\n",
              "</style>\n",
              "<table border=\"1\" class=\"dataframe\">\n",
              "  <thead>\n",
              "    <tr style=\"text-align: right;\">\n",
              "      <th></th>\n",
              "      <th>Subject</th>\n",
              "      <th>phenotype B</th>\n",
              "    </tr>\n",
              "  </thead>\n",
              "  <tbody>\n",
              "    <tr>\n",
              "      <th>0</th>\n",
              "      <td>Subject 1</td>\n",
              "      <td>219</td>\n",
              "    </tr>\n",
              "    <tr>\n",
              "      <th>1</th>\n",
              "      <td>subject 2</td>\n",
              "      <td>247</td>\n",
              "    </tr>\n",
              "    <tr>\n",
              "      <th>2</th>\n",
              "      <td>Subject 3</td>\n",
              "      <td>248</td>\n",
              "    </tr>\n",
              "    <tr>\n",
              "      <th>3</th>\n",
              "      <td>Subject 4</td>\n",
              "      <td>249</td>\n",
              "    </tr>\n",
              "    <tr>\n",
              "      <th>4</th>\n",
              "      <td>Subject 5</td>\n",
              "      <td>250</td>\n",
              "    </tr>\n",
              "  </tbody>\n",
              "</table>\n",
              "</div>"
            ],
            "text/plain": [
              "     Subject  phenotype B\n",
              "0  Subject 1          219\n",
              "1  subject 2          247\n",
              "2  Subject 3          248\n",
              "3  Subject 4          249\n",
              "4  Subject 5          250"
            ]
          },
          "metadata": {
            "tags": []
          },
          "execution_count": 9
        }
      ]
    },
    {
      "cell_type": "code",
      "metadata": {
        "id": "Sst_7CMvxnHz"
      },
      "source": [
        "A = \"A (N = \" + str(len(phenA['phenotype A'])) + \")\"\n",
        "B = \"B (N = \" + str(len(phenB['phenotype B'])) + \")\"\n",
        "phen_n = [round(np.mean(phenA['phenotype A'])), round(np.mean(phenB['phenotype B']))]\n",
        "phen_axis = [A,B]"
      ],
      "execution_count": 31,
      "outputs": []
    },
    {
      "cell_type": "code",
      "metadata": {
        "colab": {
          "base_uri": "https://localhost:8080/",
          "height": 303
        },
        "id": "E8DyKJ1QxsPM",
        "outputId": "479d10d8-00ce-4880-ea97-7cf17bca0eda"
      },
      "source": [
        "fig, ax = plt.subplots()\n",
        "ax.bar(phen_axis,phen_n,width=.65);\n",
        "ax.set_xlabel(\"Phenotype\");\n",
        "ax.set_ylabel(\"Average accumulation\");\n",
        "ax.set_yticks(np.arange(0, 351, 50));"
      ],
      "execution_count": 49,
      "outputs": [
        {
          "output_type": "display_data",
          "data": {
            "image/png": "[encoded data removed]",
            "text/plain": [
              "<Figure size 432x288 with 1 Axes>"
            ]
          },
          "metadata": {
            "tags": [],
            "needs_background": "light"
          }
        }
      ]
    },
    {
      "cell_type": "code",
      "metadata": {
        "id": "uqPi0w6s1Jr_"
      },
      "source": [
        ""
      ],
      "execution_count": null,
      "outputs": []
    }
  ]
}