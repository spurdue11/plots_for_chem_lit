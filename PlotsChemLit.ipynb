{
  "nbformat": 4,
  "nbformat_minor": 0,
  "metadata": {
    "colab": {
      "name": "PlotsChemLit.ipynb",
      "provenance": [],
      "collapsed_sections": [],
      "authorship_tag": "ABX9TyOdj1iimoVJoFYH8iECY/aS",
      "include_colab_link": true
    },
    "kernelspec": {
      "name": "python3",
      "display_name": "Python 3"
    }
  },
  "cells": [
    {
      "cell_type": "markdown",
      "metadata": {
        "id": "view-in-github",
        "colab_type": "text"
      },
      "source": [
        "<a href=\"https://colab.research.google.com/github/spurdue11/plots_for_chem_lit/blob/main/PlotsChemLit.ipynb\" target=\"_parent\"><img src=\"https://colab.research.google.com/assets/colab-badge.svg\" alt=\"Open In Colab\"/></a>"
      ]
    },
    {
      "cell_type": "markdown",
      "metadata": {
        "id": "8RiI7wjGlVt8"
      },
      "source": [
        "# Import"
      ]
    },
    {
      "cell_type": "code",
      "metadata": {
        "id": "ww0KXgWAwUij"
      },
      "source": [
        "import numpy as np\n",
        "import pandas as pd\n",
        "import math as mt\n",
        "import matplotlib.pyplot as plt\n",
        "from scipy.special import comb"
      ],
      "execution_count": 1,
      "outputs": []
    },
    {
      "cell_type": "code",
      "metadata": {
        "colab": {
          "base_uri": "https://localhost:8080/"
        },
        "id": "dy48s_Tmawvh",
        "outputId": "a0eb9810-d49b-4a4e-a2d8-16bf4cb86c38"
      },
      "source": [
        "!git clone https://github.com/spurdue11/plots_for_chem_lit"
      ],
      "execution_count": 2,
      "outputs": [
        {
          "output_type": "stream",
          "text": [
            "Cloning into 'plots_for_chem_lit'...\n",
            "remote: Enumerating objects: 21, done.\u001b[K\n",
            "remote: Counting objects: 100% (21/21), done.\u001b[K\n",
            "remote: Compressing objects: 100% (20/20), done.\u001b[K\n",
            "remote: Total 21 (delta 7), reused 0 (delta 0), pack-reused 0\u001b[K\n",
            "Unpacking objects: 100% (21/21), done.\n"
          ],
          "name": "stdout"
        }
      ]
    },
    {
      "cell_type": "markdown",
      "metadata": {
        "id": "iktMENfglO7Q"
      },
      "source": [
        "# Notes on making plots"
      ]
    },
    {
      "cell_type": "markdown",
      "metadata": {
        "id": "y_hFz-hghgFf"
      },
      "source": [
        "\n",
        "* If you want a complete list of possible marker codes, visit https://matplotlib.org/3.3.3/api/markers_api.html."
      ]
    },
    {
      "cell_type": "markdown",
      "metadata": {
        "id": "WYgpe7Drk5ZW"
      },
      "source": [
        "# Customers"
      ]
    },
    {
      "cell_type": "code",
      "metadata": {
        "colab": {
          "base_uri": "https://localhost:8080/",
          "height": 466
        },
        "id": "bu_stw1Fcq0s",
        "outputId": "cb9bd1d8-6f14-4fb1-d993-c12605d4f8c2"
      },
      "source": [
        "data = pd.read_csv(\"plots_for_chem_lit/fig511_data.csv\")\n",
        "data['constant'] = data['Pv (bar)']*np.exp(data['L (kJ/mol)']*1000/(data['T (C)']+273)/8.314)\n",
        "data"
      ],
      "execution_count": 11,
      "outputs": [
        {
          "output_type": "execute_result",
          "data": {
            "text/html": [
              "<div>\n",
              "<style scoped>\n",
              "    .dataframe tbody tr th:only-of-type {\n",
              "        vertical-align: middle;\n",
              "    }\n",
              "\n",
              "    .dataframe tbody tr th {\n",
              "        vertical-align: top;\n",
              "    }\n",
              "\n",
              "    .dataframe thead th {\n",
              "        text-align: right;\n",
              "    }\n",
              "</style>\n",
              "<table border=\"1\" class=\"dataframe\">\n",
              "  <thead>\n",
              "    <tr style=\"text-align: right;\">\n",
              "      <th></th>\n",
              "      <th>T (C)</th>\n",
              "      <th>Pv (bar)</th>\n",
              "      <th>L (kJ/mol)</th>\n",
              "      <th>constant</th>\n",
              "    </tr>\n",
              "  </thead>\n",
              "  <tbody>\n",
              "    <tr>\n",
              "      <th>0</th>\n",
              "      <td>-40.00</td>\n",
              "      <td>0.00013</td>\n",
              "      <td>51.16</td>\n",
              "      <td>3.833188e+07</td>\n",
              "    </tr>\n",
              "    <tr>\n",
              "      <th>1</th>\n",
              "      <td>-20.00</td>\n",
              "      <td>0.00103</td>\n",
              "      <td>51.13</td>\n",
              "      <td>3.711683e+07</td>\n",
              "    </tr>\n",
              "    <tr>\n",
              "      <th>2</th>\n",
              "      <td>0.00</td>\n",
              "      <td>0.00611</td>\n",
              "      <td>51.07</td>\n",
              "      <td>3.613326e+07</td>\n",
              "    </tr>\n",
              "    <tr>\n",
              "      <th>3</th>\n",
              "      <td>0.01</td>\n",
              "      <td>0.00612</td>\n",
              "      <td>45.05</td>\n",
              "      <td>2.549290e+06</td>\n",
              "    </tr>\n",
              "    <tr>\n",
              "      <th>4</th>\n",
              "      <td>25.00</td>\n",
              "      <td>0.03170</td>\n",
              "      <td>43.99</td>\n",
              "      <td>1.629604e+06</td>\n",
              "    </tr>\n",
              "    <tr>\n",
              "      <th>5</th>\n",
              "      <td>50.00</td>\n",
              "      <td>0.12340</td>\n",
              "      <td>42.92</td>\n",
              "      <td>1.077621e+06</td>\n",
              "    </tr>\n",
              "    <tr>\n",
              "      <th>6</th>\n",
              "      <td>100.00</td>\n",
              "      <td>1.01300</td>\n",
              "      <td>40.66</td>\n",
              "      <td>5.009691e+05</td>\n",
              "    </tr>\n",
              "    <tr>\n",
              "      <th>7</th>\n",
              "      <td>150.00</td>\n",
              "      <td>4.75700</td>\n",
              "      <td>38.09</td>\n",
              "      <td>2.404863e+05</td>\n",
              "    </tr>\n",
              "    <tr>\n",
              "      <th>8</th>\n",
              "      <td>200.00</td>\n",
              "      <td>15.54000</td>\n",
              "      <td>34.96</td>\n",
              "      <td>1.128017e+05</td>\n",
              "    </tr>\n",
              "    <tr>\n",
              "      <th>9</th>\n",
              "      <td>250.00</td>\n",
              "      <td>39.74000</td>\n",
              "      <td>30.90</td>\n",
              "      <td>4.847052e+04</td>\n",
              "    </tr>\n",
              "    <tr>\n",
              "      <th>10</th>\n",
              "      <td>300.00</td>\n",
              "      <td>85.84000</td>\n",
              "      <td>25.30</td>\n",
              "      <td>1.738278e+04</td>\n",
              "    </tr>\n",
              "    <tr>\n",
              "      <th>11</th>\n",
              "      <td>350.00</td>\n",
              "      <td>165.20000</td>\n",
              "      <td>16.09</td>\n",
              "      <td>3.690662e+03</td>\n",
              "    </tr>\n",
              "    <tr>\n",
              "      <th>12</th>\n",
              "      <td>374.00</td>\n",
              "      <td>220.60000</td>\n",
              "      <td>0.00</td>\n",
              "      <td>2.206000e+02</td>\n",
              "    </tr>\n",
              "  </tbody>\n",
              "</table>\n",
              "</div>"
            ],
            "text/plain": [
              "     T (C)   Pv (bar)  L (kJ/mol)      constant\n",
              "0   -40.00    0.00013       51.16  3.833188e+07\n",
              "1   -20.00    0.00103       51.13  3.711683e+07\n",
              "2     0.00    0.00611       51.07  3.613326e+07\n",
              "3     0.01    0.00612       45.05  2.549290e+06\n",
              "4    25.00    0.03170       43.99  1.629604e+06\n",
              "5    50.00    0.12340       42.92  1.077621e+06\n",
              "6   100.00    1.01300       40.66  5.009691e+05\n",
              "7   150.00    4.75700       38.09  2.404863e+05\n",
              "8   200.00   15.54000       34.96  1.128017e+05\n",
              "9   250.00   39.74000       30.90  4.847052e+04\n",
              "10  300.00   85.84000       25.30  1.738278e+04\n",
              "11  350.00  165.20000       16.09  3.690662e+03\n",
              "12  374.00  220.60000        0.00  2.206000e+02"
            ]
          },
          "metadata": {
            "tags": []
          },
          "execution_count": 11
        }
      ]
    },
    {
      "cell_type": "code",
      "metadata": {
        "id": "fWsnLPFHZWM3"
      },
      "source": [
        "from scipy.constants import R"
      ],
      "execution_count": 25,
      "outputs": []
    },
    {
      "cell_type": "code",
      "metadata": {
        "id": "unPUSYObWVvI",
        "outputId": "d1082f84-b081-4049-90d6-fa03579a7c11",
        "colab": {
          "base_uri": "https://localhost:8080/"
        }
      },
      "source": [
        "constant = np.mean(data['constant'][2:6])\n",
        "L = np.mean(data['L (kJ/mol)'][2:6])\n",
        "constant"
      ],
      "execution_count": 32,
      "outputs": [
        {
          "output_type": "execute_result",
          "data": {
            "text/plain": [
              "10347444.658679893"
            ]
          },
          "metadata": {
            "tags": []
          },
          "execution_count": 32
        }
      ]
    },
    {
      "cell_type": "code",
      "metadata": {
        "id": "8A8zziqCXuFR"
      },
      "source": [
        "df = pd.DataFrame()\n",
        "df['T'] = np.linspace(0,40,41)\n",
        "df['P'] = constant*np.exp(-L*1000/R/(df['T']+273))"
      ],
      "execution_count": 27,
      "outputs": []
    },
    {
      "cell_type": "code",
      "metadata": {
        "colab": {
          "base_uri": "https://localhost:8080/",
          "height": 303
        },
        "id": "VfHuURs5eIQF",
        "outputId": "18660443-0e61-47a0-ff77-66044953bb51"
      },
      "source": [
        "\n",
        "\n",
        "fig, ax = plt.subplots()\n",
        "ax.plot(df['T'], df['P'])\n",
        "\n",
        "# ax.plot(data['Month'], data[' north branch'], label=\"North branch\");\n",
        "ax.set_xlabel(\"T (C)\");\n",
        "ax.set_ylabel(\"P (bar)\");\n",
        "# plt.xticks(rotation = 45);\n",
        "# ax.legend();"
      ],
      "execution_count": 29,
      "outputs": [
        {
          "output_type": "display_data",
          "data": {
            "image/png": "[encoded data removed]",
            "text/plain": [
              "<Figure size 432x288 with 1 Axes>"
            ]
          },
          "metadata": {
            "tags": [],
            "needs_background": "light"
          }
        }
      ]
    },
    {
      "cell_type": "code",
      "metadata": {
        "id": "2qcSqVAahnaM"
      },
      "source": [
        "fig.savefig('p.pdf', dpi=300, bbox_inches='tight')"
      ],
      "execution_count": 30,
      "outputs": []
    },
    {
      "cell_type": "markdown",
      "metadata": {
        "id": "Y43qw0mWk8Tl"
      },
      "source": [
        "# Energy states"
      ]
    },
    {
      "cell_type": "code",
      "metadata": {
        "colab": {
          "base_uri": "https://localhost:8080/",
          "height": 228
        },
        "id": "Nq00Ztt0c36D",
        "outputId": "20fcaeee-f48f-46b8-be37-1d918c1c460d"
      },
      "source": [
        "energy = pd.read_excel(\"plots_for_chem_lit/energy-states.xlsx\")\n",
        "energy.head()"
      ],
      "execution_count": null,
      "outputs": [
        {
          "output_type": "execute_result",
          "data": {
            "text/html": [
              "<div>\n",
              "<style scoped>\n",
              "    .dataframe tbody tr th:only-of-type {\n",
              "        vertical-align: middle;\n",
              "    }\n",
              "\n",
              "    .dataframe tbody tr th {\n",
              "        vertical-align: top;\n",
              "    }\n",
              "\n",
              "    .dataframe thead th {\n",
              "        text-align: right;\n",
              "    }\n",
              "</style>\n",
              "<table border=\"1\" class=\"dataframe\">\n",
              "  <thead>\n",
              "    <tr style=\"text-align: right;\">\n",
              "      <th></th>\n",
              "      <th>computational method</th>\n",
              "      <th>energy of state 1</th>\n",
              "      <th>energy of state 2</th>\n",
              "      <th>95% CI</th>\n",
              "    </tr>\n",
              "  </thead>\n",
              "  <tbody>\n",
              "    <tr>\n",
              "      <th>0</th>\n",
              "      <td>RRKM</td>\n",
              "      <td>14.65000</td>\n",
              "      <td>17.5500</td>\n",
              "      <td>1.10</td>\n",
              "    </tr>\n",
              "    <tr>\n",
              "      <th>1</th>\n",
              "      <td>abbreviated version 1</td>\n",
              "      <td>13.10000</td>\n",
              "      <td>17.1000</td>\n",
              "      <td>1.15</td>\n",
              "    </tr>\n",
              "    <tr>\n",
              "      <th>2</th>\n",
              "      <td>abbreviated version 2</td>\n",
              "      <td>12.12883</td>\n",
              "      <td>16.9531</td>\n",
              "      <td>1.08</td>\n",
              "    </tr>\n",
              "    <tr>\n",
              "      <th>3</th>\n",
              "      <td>abbreviated version 3</td>\n",
              "      <td>12.95600</td>\n",
              "      <td>18.4560</td>\n",
              "      <td>1.65</td>\n",
              "    </tr>\n",
              "    <tr>\n",
              "      <th>4</th>\n",
              "      <td>ab initio</td>\n",
              "      <td>12.98470</td>\n",
              "      <td>19.4589</td>\n",
              "      <td>0.85</td>\n",
              "    </tr>\n",
              "  </tbody>\n",
              "</table>\n",
              "</div>"
            ],
            "text/plain": [
              "    computational method  energy of state 1  energy of state 2  95% CI\n",
              "0                   RRKM           14.65000            17.5500    1.10\n",
              "1  abbreviated version 1           13.10000            17.1000    1.15\n",
              "2  abbreviated version 2           12.12883            16.9531    1.08\n",
              "3  abbreviated version 3           12.95600            18.4560    1.65\n",
              "4              ab initio           12.98470            19.4589    0.85"
            ]
          },
          "metadata": {
            "tags": []
          },
          "execution_count": 6
        }
      ]
    },
    {
      "cell_type": "markdown",
      "metadata": {
        "id": "aZn44LRLlA0a"
      },
      "source": [
        "# Luciferase"
      ]
    },
    {
      "cell_type": "code",
      "metadata": {
        "colab": {
          "base_uri": "https://localhost:8080/",
          "height": 228
        },
        "id": "1UOGAZIrdcKN",
        "outputId": "46ed8ef5-0dc2-4382-9747-c7bf1b3e7796"
      },
      "source": [
        "luciferase = pd.read_excel(\"plots_for_chem_lit/luciferase.xlsx\")\n",
        "luciferase.head()"
      ],
      "execution_count": null,
      "outputs": [
        {
          "output_type": "execute_result",
          "data": {
            "text/html": [
              "<div>\n",
              "<style scoped>\n",
              "    .dataframe tbody tr th:only-of-type {\n",
              "        vertical-align: middle;\n",
              "    }\n",
              "\n",
              "    .dataframe tbody tr th {\n",
              "        vertical-align: top;\n",
              "    }\n",
              "\n",
              "    .dataframe thead th {\n",
              "        text-align: right;\n",
              "    }\n",
              "</style>\n",
              "<table border=\"1\" class=\"dataframe\">\n",
              "  <thead>\n",
              "    <tr style=\"text-align: right;\">\n",
              "      <th></th>\n",
              "      <th>experiment type</th>\n",
              "      <th>p53 type</th>\n",
              "      <th>luciferase act 1</th>\n",
              "      <th>luciferase act 2</th>\n",
              "      <th>luciferase act 3</th>\n",
              "    </tr>\n",
              "  </thead>\n",
              "  <tbody>\n",
              "    <tr>\n",
              "      <th>0</th>\n",
              "      <td>untreated</td>\n",
              "      <td>pos</td>\n",
              "      <td>25.0</td>\n",
              "      <td>24.5</td>\n",
              "      <td>25.2</td>\n",
              "    </tr>\n",
              "    <tr>\n",
              "      <th>1</th>\n",
              "      <td>untreated</td>\n",
              "      <td>neg</td>\n",
              "      <td>24.8</td>\n",
              "      <td>24.9</td>\n",
              "      <td>25.1</td>\n",
              "    </tr>\n",
              "    <tr>\n",
              "      <th>2</th>\n",
              "      <td>IFN</td>\n",
              "      <td>pos</td>\n",
              "      <td>65.0</td>\n",
              "      <td>64.0</td>\n",
              "      <td>67.0</td>\n",
              "    </tr>\n",
              "    <tr>\n",
              "      <th>3</th>\n",
              "      <td>IFN</td>\n",
              "      <td>neg</td>\n",
              "      <td>62.0</td>\n",
              "      <td>63.0</td>\n",
              "      <td>59.0</td>\n",
              "    </tr>\n",
              "    <tr>\n",
              "      <th>4</th>\n",
              "      <td>dsRNA</td>\n",
              "      <td>pos</td>\n",
              "      <td>75.0</td>\n",
              "      <td>75.0</td>\n",
              "      <td>76.0</td>\n",
              "    </tr>\n",
              "  </tbody>\n",
              "</table>\n",
              "</div>"
            ],
            "text/plain": [
              "  experiment type p53 type  ...  luciferase act 2  luciferase act 3\n",
              "0       untreated      pos  ...              24.5              25.2\n",
              "1       untreated      neg  ...              24.9              25.1\n",
              "2             IFN      pos  ...              64.0              67.0\n",
              "3             IFN      neg  ...              63.0              59.0\n",
              "4           dsRNA      pos  ...              75.0              76.0\n",
              "\n",
              "[5 rows x 5 columns]"
            ]
          },
          "metadata": {
            "tags": []
          },
          "execution_count": 7
        }
      ]
    },
    {
      "cell_type": "markdown",
      "metadata": {
        "id": "i37_iL6olEwl"
      },
      "source": [
        "# Phenotype data"
      ]
    },
    {
      "cell_type": "code",
      "metadata": {
        "colab": {
          "base_uri": "https://localhost:8080/",
          "height": 228
        },
        "id": "OIsBHT0QdlQR",
        "outputId": "84d25b01-706a-4f94-eb32-c90dbba56496"
      },
      "source": [
        "phenA = pd.read_excel(\"plots_for_chem_lit/phenotypeA.xlsx\")\n",
        "phenA.head()"
      ],
      "execution_count": null,
      "outputs": [
        {
          "output_type": "execute_result",
          "data": {
            "text/html": [
              "<div>\n",
              "<style scoped>\n",
              "    .dataframe tbody tr th:only-of-type {\n",
              "        vertical-align: middle;\n",
              "    }\n",
              "\n",
              "    .dataframe tbody tr th {\n",
              "        vertical-align: top;\n",
              "    }\n",
              "\n",
              "    .dataframe thead th {\n",
              "        text-align: right;\n",
              "    }\n",
              "</style>\n",
              "<table border=\"1\" class=\"dataframe\">\n",
              "  <thead>\n",
              "    <tr style=\"text-align: right;\">\n",
              "      <th></th>\n",
              "      <th>Subject</th>\n",
              "      <th>phenotype A</th>\n",
              "    </tr>\n",
              "  </thead>\n",
              "  <tbody>\n",
              "    <tr>\n",
              "      <th>0</th>\n",
              "      <td>Subject 1</td>\n",
              "      <td>257</td>\n",
              "    </tr>\n",
              "    <tr>\n",
              "      <th>1</th>\n",
              "      <td>subject 2</td>\n",
              "      <td>258</td>\n",
              "    </tr>\n",
              "    <tr>\n",
              "      <th>2</th>\n",
              "      <td>Subject 3</td>\n",
              "      <td>259</td>\n",
              "    </tr>\n",
              "    <tr>\n",
              "      <th>3</th>\n",
              "      <td>Subject 4</td>\n",
              "      <td>261</td>\n",
              "    </tr>\n",
              "    <tr>\n",
              "      <th>4</th>\n",
              "      <td>Subject 5</td>\n",
              "      <td>261</td>\n",
              "    </tr>\n",
              "  </tbody>\n",
              "</table>\n",
              "</div>"
            ],
            "text/plain": [
              "     Subject  phenotype A\n",
              "0  Subject 1          257\n",
              "1  subject 2          258\n",
              "2  Subject 3          259\n",
              "3  Subject 4          261\n",
              "4  Subject 5          261"
            ]
          },
          "metadata": {
            "tags": []
          },
          "execution_count": 8
        }
      ]
    },
    {
      "cell_type": "code",
      "metadata": {
        "colab": {
          "base_uri": "https://localhost:8080/",
          "height": 228
        },
        "id": "hq2kAqktdz3X",
        "outputId": "2c6b05a9-f0b9-4ae6-9c05-2092005232b4"
      },
      "source": [
        "phenB = pd.read_excel(\"plots_for_chem_lit/phenotypeB.xlsx\")\n",
        "phenB.head()"
      ],
      "execution_count": null,
      "outputs": [
        {
          "output_type": "execute_result",
          "data": {
            "text/html": [
              "<div>\n",
              "<style scoped>\n",
              "    .dataframe tbody tr th:only-of-type {\n",
              "        vertical-align: middle;\n",
              "    }\n",
              "\n",
              "    .dataframe tbody tr th {\n",
              "        vertical-align: top;\n",
              "    }\n",
              "\n",
              "    .dataframe thead th {\n",
              "        text-align: right;\n",
              "    }\n",
              "</style>\n",
              "<table border=\"1\" class=\"dataframe\">\n",
              "  <thead>\n",
              "    <tr style=\"text-align: right;\">\n",
              "      <th></th>\n",
              "      <th>Subject</th>\n",
              "      <th>phenotype B</th>\n",
              "    </tr>\n",
              "  </thead>\n",
              "  <tbody>\n",
              "    <tr>\n",
              "      <th>0</th>\n",
              "      <td>Subject 1</td>\n",
              "      <td>219</td>\n",
              "    </tr>\n",
              "    <tr>\n",
              "      <th>1</th>\n",
              "      <td>subject 2</td>\n",
              "      <td>247</td>\n",
              "    </tr>\n",
              "    <tr>\n",
              "      <th>2</th>\n",
              "      <td>Subject 3</td>\n",
              "      <td>248</td>\n",
              "    </tr>\n",
              "    <tr>\n",
              "      <th>3</th>\n",
              "      <td>Subject 4</td>\n",
              "      <td>249</td>\n",
              "    </tr>\n",
              "    <tr>\n",
              "      <th>4</th>\n",
              "      <td>Subject 5</td>\n",
              "      <td>250</td>\n",
              "    </tr>\n",
              "  </tbody>\n",
              "</table>\n",
              "</div>"
            ],
            "text/plain": [
              "     Subject  phenotype B\n",
              "0  Subject 1          219\n",
              "1  subject 2          247\n",
              "2  Subject 3          248\n",
              "3  Subject 4          249\n",
              "4  Subject 5          250"
            ]
          },
          "metadata": {
            "tags": []
          },
          "execution_count": 9
        }
      ]
    },
    {
      "cell_type": "code",
      "metadata": {
        "id": "Sst_7CMvxnHz"
      },
      "source": [
        "A = \"A (N = \" + str(len(phenA['phenotype A'])) + \")\"\n",
        "B = \"B (N = \" + str(len(phenB['phenotype B'])) + \")\"\n",
        "phen_n = [round(np.mean(phenA['phenotype A'])), round(np.mean(phenB['phenotype B']))]\n",
        "phen_axis = [A,B]"
      ],
      "execution_count": null,
      "outputs": []
    },
    {
      "cell_type": "code",
      "metadata": {
        "colab": {
          "base_uri": "https://localhost:8080/",
          "height": 303
        },
        "id": "E8DyKJ1QxsPM",
        "outputId": "479d10d8-00ce-4880-ea97-7cf17bca0eda"
      },
      "source": [
        "fig, ax = plt.subplots()\n",
        "ax.bar(phen_axis,phen_n,width=.65);\n",
        "ax.set_xlabel(\"Phenotype\");\n",
        "ax.set_ylabel(\"Average accumulation\");\n",
        "ax.set_yticks(np.arange(0, 351, 50));"
      ],
      "execution_count": null,
      "outputs": [
        {
          "output_type": "display_data",
          "data": {
            "image/png": "[encoded data removed]",
            "text/plain": [
              "<Figure size 432x288 with 1 Axes>"
            ]
          },
          "metadata": {
            "tags": [],
            "needs_background": "light"
          }
        }
      ]
    },
    {
      "cell_type": "code",
      "metadata": {
        "id": "uqPi0w6s1Jr_"
      },
      "source": [
        ""
      ],
      "execution_count": null,
      "outputs": []
    }
  ]
}